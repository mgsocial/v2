{
 "cells": [
  {
   "cell_type": "markdown",
   "metadata": {
    "colab_type": "text",
    "id": "hKr3rKYyuFkb"
   },
   "source": [
    "#5주차 시험\n",
    "- 빅데이터 분석(장순용)\n",
    "- 강화학습 & 딥러닝(이재화)\n",
    "- 자연어처리(김준태)\n",
    "- 머신러닝(박준영)\n",
    "- 웹 애플리케이션(최주원)\n",
    "- 알고리즘(양지웅)\n",
    "\n",
    "###각 과목당 4개의 문제(객관식 + 주관식) 총 24개의 문제로 구성되어 있습니다.\n",
    "###파일 이름은 다음과 같이 변경하여 제출해주세요. \n",
    "(시험번호는 링크를 통해 확인 가능합니다. [링크](https://docs.google.com/spreadsheets/d/1vo-hMdfsWKE6ByYC0sO2jk-b1gzYcRo2TR-Et0gXSV0/edit?usp=sharing)\n",
    ")\n",
    "\n",
    "\n",
    "\n",
    "```\n",
    "(시험번호)_5주차_시험_(반)_(이름)\n",
    "ex) 120_5주차_시험_3반_홍길동\n",
    "```\n"
   ]
  },
  {
   "cell_type": "markdown",
   "metadata": {
    "colab_type": "text",
    "id": "9QV2bj-Ruxws"
   },
   "source": [
    "\n",
    "\n",
    "---\n",
    "\n"
   ]
  },
  {
   "cell_type": "markdown",
   "metadata": {
    "colab_type": "text",
    "id": "zLLXMQRKuZVD"
   },
   "source": [
    "## 1. 다음 백분위수에 대한 설명 중 틀린 것은? (객관식)\n",
    "1. 표본의100% 분위수와 0% 분위수 사이의 거리는 항상 1이다.\n",
    "2. 박스플롯 (상자그림)을 그리면 데이터의 25%, 50%, 75% 분위수를 쉽게 알 수 있다.\n",
    "3. 50% 분위수 (중위수)는 이상치에 둔감하다. \n",
    "4. 50% 분위수 (중위수)는 평균과 일치할 수도 있고 일치하지 않을 수도 있다."
   ]
  },
  {
   "cell_type": "markdown",
   "metadata": {
    "colab_type": "text",
    "id": "BjUameXuu2-4"
   },
   "source": [
    "### __1번 문제 정답__ : 1"
   ]
  },
  {
   "cell_type": "markdown",
   "metadata": {
    "colab_type": "text",
    "id": "kRUBHdfZuvxn"
   },
   "source": [
    "\n",
    "\n",
    "---\n",
    "\n"
   ]
  },
  {
   "cell_type": "markdown",
   "metadata": {
    "colab_type": "text",
    "id": "NY3bjEfhvDZF"
   },
   "source": [
    "## 2. 다음 확률분포 함수 중 그 성격이 나머지 것들과 다른 것은? (객관식)\n",
    "1. 주사위.\n",
    "2. 카이제곱.\n",
    "3. 이항분포.\n",
    "4. 동전 (베르누이)."
   ]
  },
  {
   "cell_type": "markdown",
   "metadata": {
    "colab_type": "text",
    "id": "OuvhDJ_Wva0T"
   },
   "source": [
    "### __2번 문제 정답__ : 2"
   ]
  },
  {
   "cell_type": "markdown",
   "metadata": {
    "colab_type": "text",
    "id": "M3sDLv2tvcAG"
   },
   "source": [
    "\n",
    "\n",
    "\n",
    "\n",
    "---\n",
    "\n"
   ]
  },
  {
   "cell_type": "markdown",
   "metadata": {
    "colab_type": "text",
    "id": "C3xU8rF8UBq1"
   },
   "source": [
    "## 3. 백열전구의 수명이 평균3000시간이며 표준편차는 1000시간인 정규분포를 따른다고 알려져 있다. 백열전구 중 가장 수명이 긴 상위 5%는 최소 몇시간 이상 사용할 수 있는가를 계산해 주는  Python수식은? (객관식)\n",
    "## \"import scipy.stats as st\" 를 전제한다.\n",
    "\n",
    "1. st.norm.ppf(0.95, 3000, 1000)\n",
    "2. st.norm.pdf(0.05, 3000, 1000)\n",
    "3. st.norm.cdf(5, 3000, 1000)\n",
    "4. st.norm.ppf(0.05, 3000, 1000)"
   ]
  },
  {
   "cell_type": "markdown",
   "metadata": {
    "colab_type": "text",
    "id": "KJ4bwn6OUBq2"
   },
   "source": [
    "### __3번 문제 정답__ : 1"
   ]
  },
  {
   "cell_type": "markdown",
   "metadata": {
    "colab_type": "text",
    "id": "iX0tJNBdUBq3"
   },
   "source": [
    "\n",
    "\n",
    "---\n",
    "\n"
   ]
  },
  {
   "cell_type": "markdown",
   "metadata": {
    "colab_type": "text",
    "id": "dJYTodgTVFci"
   },
   "source": [
    "## 4. X와 Y라는 두개의 확률변수가 있다. 그런데 이들 사이의 공분산은 -15이다. 또한 X의 분산은 25이고 Y의 분산은 36이다. X와 Y사이의 상관계수는? (주관식)\n"
   ]
  },
  {
   "cell_type": "markdown",
   "metadata": {
    "colab_type": "text",
    "id": "n7JyYFMuVFcj"
   },
   "source": [
    "### __4번 문제 정답(주관식)__: -0.5"
   ]
  },
  {
   "cell_type": "markdown",
   "metadata": {
    "colab_type": "text",
    "id": "S6B_bYwlVFck"
   },
   "source": [
    "\n",
    "\n",
    "---\n",
    "\n"
   ]
  },
  {
   "cell_type": "markdown",
   "metadata": {
    "colab_type": "text",
    "id": "BtaCwZlv8a5V"
   },
   "source": [
    "## 5. 주어진 '입력 픽셀 행렬'과 '합성곱 커널'을 활용하여 '출력 픽셀 행렬'을 도출하고, '출력 픽셀 행렬'의 '왼쪽 상단 값' 의 도출 과정을 수식으로 작성하시오. (주관식)\n",
    "###(※편향은 존재하지 않습니다.) \n",
    "###(※'출력 픽셀 행렬'의 작성 순서는 최상단에서 시작, 왼쪽에서 오른쪽으로 이어지는 순서로 작성하시오. \n",
    "###ex) '합성곱 필터'를 예를 들면 1,0,0,1,1,0,0,0,1 )\n",
    "\n",
    "![대체 텍스트](https://www.notion.so/image/https%3A%2F%2Fs3-us-west-2.amazonaws.com%2Fsecure.notion-static.com%2F23f494c2-62d6-48e6-8282-7ab4cfb6a9f1%2FUntitled.png?table=block&id=d5759d9c-a778-4a33-ac79-f592f55c5aa0&width=1920&cache=v2)"
   ]
  },
  {
   "cell_type": "markdown",
   "metadata": {
    "colab_type": "text",
    "id": "H0c8t17X9AQl"
   },
   "source": [
    "### __5번 문제 정답(주관식)__: 3*3행렬(25,18,17,18,22,14,20,15,24): \n",
    "\n",
    "[[3x1+9x1+7x1+6x1, 5x1+7x1+5x1+1x1, 2x1+5x1+4x1+6x1], [9x1+2x1+0x1+7x1, 7x1+0x1+6x1+9x1, 5x1+6x1+1x1+2x1] , [2x1+6x1+3x1+9x1, 0x1+3x1+7x1+5x1, 6x1+7x1+9x1+2x1]]"
   ]
  },
  {
   "cell_type": "code",
   "execution_count": 1,
   "metadata": {},
   "outputs": [],
   "source": [
    "n = [[3*1+9*1+7*1+6*1, 5*1+7*1+5*1+1*1, 2*1+5*1+4*1+6*1], [9*1+2*1+0*1+7*1, 7*1+0*1+6*1+9*1, 5*1+6*1+1*1+2*1] , [2*1+6*1+3*1+9*1, 0*1+3*1+7*1+5*1, 6*1+7*1+9*1+2*1]]"
   ]
  },
  {
   "cell_type": "code",
   "execution_count": 2,
   "metadata": {},
   "outputs": [
    {
     "data": {
      "text/plain": [
       "[[25, 18, 17], [18, 22, 14], [20, 15, 24]]"
      ]
     },
     "execution_count": 2,
     "metadata": {},
     "output_type": "execute_result"
    }
   ],
   "source": [
    "n"
   ]
  },
  {
   "cell_type": "markdown",
   "metadata": {
    "colab_type": "text",
    "id": "CROExB9j9B8E"
   },
   "source": [
    "\n",
    "\n",
    "---\n",
    "\n"
   ]
  },
  {
   "cell_type": "markdown",
   "metadata": {
    "colab_type": "text",
    "id": "H-7uSQL4ARvJ"
   },
   "source": [
    "## 6. CNN은 모델에 비선형성을 주기 위해 컨볼루션 작업이 끝날 때마다 합성곱된 특성에 꺾인 선형 유닛(ReLU) 변형을 적용합니다. F(x) = max(0,x) 로 정의되는 ReLU 함수는 X > 0인 모든 값에 대해 A 를, x  ≤ 0인 모든 값에 대해 B를 반환합니다. 여기서 A와 B의 값으로 알맞게 구성된 보기를 선택하시오. (객관식)\n",
    "\n",
    "1. A : X, B :  0\n",
    "2. A : 0, B :  X\n",
    "3. A : 1, B :  0\n",
    "4. A : 0, B :  1"
   ]
  },
  {
   "cell_type": "markdown",
   "metadata": {
    "colab_type": "text",
    "id": "xI8-ywywAv1v"
   },
   "source": [
    "### __6번 문제 정답__: 1"
   ]
  },
  {
   "cell_type": "markdown",
   "metadata": {
    "colab_type": "text",
    "id": "X85pFXXaAyhz"
   },
   "source": [
    "\n",
    "\n",
    "---\n",
    "\n"
   ]
  },
  {
   "cell_type": "markdown",
   "metadata": {
    "colab_type": "text",
    "id": "hU_K5nq_Azl4"
   },
   "source": [
    "## 7. 빈칸에 알맞은 단어로 짝지어진 것을 고르시오. (객관식)\n",
    "\n",
    "####어떠한 신경망 모델에서나 그렇듯이 컨볼루션 신경망을 학습시킬 때 가장 중요한 관심사는 **'A'가(이)** 발생하지 않도록 하는 것입니다.\n",
    "\n",
    "####**'A'** 란 모델이 학습 데이터의 특성에 지나치게 맞춰져 새로운 예를 접했을 때 일반화할 수 없는 상태를 말합니다. \n",
    "####CNN을 구축할 때 다음과 같은 두 가지 기법을 사용하여 **'A'** 가(이) 방지할 수 있습니다.\n",
    "####**B** : 기존의 이미지를 임의로 변형함으로써 학습용 예의 다양성과 개수를 인위적으로 늘려 새로운 변형 세트를 만듭니다. **B** 는 데이터 세트가 비교적 작을 때 특히 유용합니다.\n",
    "####**C** : 학습 단계에서 신경망으로부터 유닛을 임의로 삭제합니다.\n",
    "\n",
    "1. A :  과적합            B : 이미지 보강    C : 드롭아웃 \n",
    "2. A :  지역 최솟값     B : 데이터 변형    C : 레이어 삭제\n",
    "3. A :  과적합            B : 데이터 보강    C : 드롭아웃 \n",
    "4. A :  기울기 소실     B : 이미지 변형    C : 레이어 삭제\n"
   ]
  },
  {
   "cell_type": "markdown",
   "metadata": {
    "colab_type": "text",
    "id": "3v3-RWNICBet"
   },
   "source": [
    "### __7번 문제 정답__: 3"
   ]
  },
  {
   "cell_type": "markdown",
   "metadata": {
    "colab_type": "text",
    "id": "CY8bEEdPCGFy"
   },
   "source": [
    "\n",
    "\n",
    "---\n",
    "\n"
   ]
  },
  {
   "cell_type": "markdown",
   "metadata": {
    "colab_type": "text",
    "id": "uQdKkjcGCJWX"
   },
   "source": [
    "## 8. 본 그림은 민스키의 XOR 문제를 활성화 함수와 다층 퍼셉트론 으로 풀어내는 과정이다. 해당 자료를 바탕으로 A와 B에 들어갈 알맞은 값들로 짝지어진 것을 고르시오. (객관식)\n",
    "![대체 텍스트](https://www.notion.so/image/https%3A%2F%2Fs3-us-west-2.amazonaws.com%2Fsecure.notion-static.com%2F418d553b-27f4-4494-ac8e-4bad8db93ea5%2Fa.png?table=block&id=b2181c3e-b7b9-4bb9-aee1-2a3dea5a7cff&width=1920&cache=v2)\n",
    "\n",
    "1. A : -2 B : 0\n",
    "2. A :  2 B : 0\n",
    "3. A : -1 B : 1\n",
    "4. A : -1 B : 1\n"
   ]
  },
  {
   "cell_type": "markdown",
   "metadata": {
    "colab_type": "text",
    "id": "yZ1cS2WqRzin"
   },
   "source": [
    "### __8번 문제 정답__: 1"
   ]
  },
  {
   "cell_type": "markdown",
   "metadata": {
    "colab_type": "text",
    "id": "TCTEcf3IR28P"
   },
   "source": [
    "\n",
    "\n",
    "---\n",
    "\n"
   ]
  },
  {
   "cell_type": "markdown",
   "metadata": {
    "colab_type": "text",
    "id": "SBZ_qVxnrT-2"
   },
   "source": [
    "## 9.  RNN에 대한 설명 중 틀린 것은? (객관식)\n",
    "\n",
    "1. RNN이란 Recursive Neural Network를 말한다.\n",
    "2. RNN은 단어 하나를 분석할 때보다 문장을 분석할 때 더 유용하다.\n",
    "3. 기본 RNN은 데이터가 길어질 수록 앞 정보의 영향력이 점점 감소하게 된다.\n",
    "4. RNN에는 다음 셀로 넘겨줄 hidden state가 존재한다."
   ]
  },
  {
   "cell_type": "markdown",
   "metadata": {
    "colab_type": "text",
    "id": "2NdjX57KsAiY"
   },
   "source": [
    "### __9번 문제 정답__ : 1"
   ]
  },
  {
   "cell_type": "markdown",
   "metadata": {
    "colab_type": "text",
    "id": "HQERS1EJsDb6"
   },
   "source": [
    "\n",
    "\n",
    "---\n",
    "\n"
   ]
  },
  {
   "cell_type": "markdown",
   "metadata": {
    "colab_type": "text",
    "id": "Cp2okcOvrutM"
   },
   "source": [
    "## 10.  LSTM에 대한 설명 중 틀린 것은? (객관식)\n",
    "\n",
    "1. LSTM에는 장기 상태와 단기 상태가 존재한다.\n",
    "2. LSTM의 장기 상태는 dot product를 통해서 구할 수 있다.\n",
    "3. LSTM에는 삭제를 위한 게이트가 존재한다.\n",
    "4. LSTM은 기본 RNN의 장기 의존성 문제를 대처하고 있다."
   ]
  },
  {
   "cell_type": "markdown",
   "metadata": {
    "colab_type": "text",
    "id": "HR5SLpDX0q9G"
   },
   "source": [
    "### __10번 문제 정답__ : 2"
   ]
  },
  {
   "cell_type": "markdown",
   "metadata": {
    "colab_type": "text",
    "id": "DMf5MRjXrwSj"
   },
   "source": [
    "\n",
    "\n",
    "---\n",
    "\n"
   ]
  },
  {
   "cell_type": "markdown",
   "metadata": {
    "colab_type": "text",
    "id": "9PlDeGLsrx5z"
   },
   "source": [
    "## 11.  CNN에 대한 설명 중 틀린 것은? (객관식)\n",
    "\n",
    "1. 자연어처리에는 1D CNN이 주로 사용된다.\n",
    "2. Global Pooling에서는 strides, pool size를 지정하지 않아도 된다.\n",
    "3. 커널 수는 채널 수와 항상 같다.\n",
    "4. 커널 사이즈란 커널과 연산을 진행할 때 함께 들어갈 단어의 개수를 말한다."
   ]
  },
  {
   "cell_type": "markdown",
   "metadata": {
    "colab_type": "text",
    "id": "OFCUdHaU0u9S"
   },
   "source": [
    "### __11번 문제 정답__ : 4"
   ]
  },
  {
   "cell_type": "markdown",
   "metadata": {
    "colab_type": "text",
    "id": "oToP9e8Q0wl-"
   },
   "source": [
    "\n",
    "\n",
    "---\n",
    "\n"
   ]
  },
  {
   "cell_type": "markdown",
   "metadata": {
    "colab_type": "text",
    "id": "Ffnq3jcj02_8"
   },
   "source": [
    "## 12. 다중분류를 할 때에 일반적으로 사용하는 출력 레이어 활성함수의 이름과 모델 손실함수의 이름을 작성하시오. (주관식) \n"
   ]
  },
  {
   "cell_type": "markdown",
   "metadata": {
    "colab_type": "text",
    "id": "GA79CnYU09yU"
   },
   "source": [
    "### __12번 문제 정답(주관식)__ : 소프트맥스함수(softmax), 크로스엔트로피(cross entropy)"
   ]
  },
  {
   "cell_type": "markdown",
   "metadata": {
    "colab_type": "text",
    "id": "mqAPiIR41HBg"
   },
   "source": [
    "\n",
    "\n",
    "---\n",
    "\n"
   ]
  },
  {
   "cell_type": "markdown",
   "metadata": {
    "colab_type": "text",
    "id": "31wjVDBsT1Pk"
   },
   "source": [
    "## 13. 다음 로지스틱 회귀(Logistic Regression)에 대한 설명 중 틀린 것은? (객관식)\n",
    "\n",
    "1. 로지스틱 회귀는 희소한 데이터 세트 분류에도 뛰어난 성능을 보여서 텍스트 분류에서도 자주 사용됩니다.\n",
    "2. 직선 대신 S 모양 곡선을 사용한다는 사실 때문에 데이터를 그룹으로 나누는 데 적합 합니다.\n",
    "3. 선형 회귀 방식을 기반으로 하되 시그모이드 함수를 이용해 분류를 수행하는 회귀입니다.\n",
    "4. 경사하강법(Gradient Descent) 최적화 알고리즘을 사용하여 선형 모델을 작성합니다."
   ]
  },
  {
   "cell_type": "markdown",
   "metadata": {
    "colab_type": "text",
    "id": "Uhec7H4hUUZn"
   },
   "source": [
    "### __13번 문제 정답__ : 1"
   ]
  },
  {
   "cell_type": "markdown",
   "metadata": {
    "colab_type": "text",
    "id": "z_h4Xx6QUW2n"
   },
   "source": [
    "\n",
    "\n",
    "---\n",
    "\n"
   ]
  },
  {
   "cell_type": "markdown",
   "metadata": {
    "colab_type": "text",
    "id": "45Gj12WtUeQp"
   },
   "source": [
    "## 14. 다음 사이킷런 LogisticRegression 클래스의 주요 하이퍼 파라미터 penalty와 C에 대한 설명 중 틀린 것은? (객관식)\n",
    "\n",
    "1. C는 규제 강도를 조정하는 alpha값의 역수입니다.\n",
    "2. penalty는 규제(Regularization)의 유형을 설정하며 'l2'로 설정시 L2 규제를, 'l1'으로 설정 시 L1 규제를 뜻합니다. 기본은 'l1'입니다.\n",
    "3. C 값이 작을 수록 규제 강도가 큽니다.\n",
    "4. C가 크면 개개의 데이터 포인를 정확히 분류하려고 하고, C가 작으면 데이터 포인트 중에서 다수에 맞추려고 합니다."
   ]
  },
  {
   "cell_type": "markdown",
   "metadata": {
    "colab_type": "text",
    "id": "36HeuskDUqMU"
   },
   "source": [
    "### __14번 문제 정답__ : 2"
   ]
  },
  {
   "cell_type": "markdown",
   "metadata": {
    "colab_type": "text",
    "id": "sT7x3fDFUsVi"
   },
   "source": [
    "\n",
    "\n",
    "---\n",
    "\n"
   ]
  },
  {
   "cell_type": "markdown",
   "metadata": {
    "colab_type": "text",
    "id": "R3Dm6hDnVL64"
   },
   "source": [
    "## 15. 결정 트리(Logistic Regression)에 결정기준 경계를 시각화한 결과이다. 바르게 설명된 것은? (객관식)\n",
    "![대체 텍스트](https://www.notion.so/image/https%3A%2F%2Fs3-us-west-2.amazonaws.com%2Fsecure.notion-static.com%2F2b8514a6-f989-4da1-af79-50a15614fc05%2F5.png?table=block&id=c349fa3a-ac5a-4f70-91c3-e90564472a5e&width=1920&cache=v2)\n",
    "1. 일부 이상치(Outlier) 데이터까지 분류하기 위해 분할이 자주 일어나서 결정 기준 경계가 매우 많아졌습니다.\n",
    "2. 리프 노드 안에 데이터가 모두 균일하거나 하나만 존재해야 하는 엄격한 분할 기준으로 인해 결정 기준 경계가 많아지고 복잡해졌습니다.\n",
    "3. 이렇게 복잡한 모델은 학습 데이터 세트의 특성과 약간만 다른 형태의 데이터 세트를 예측하면 예측 정확도가 떨어지게 됩니다.\n",
    "4. 이상치에 크게 반응하지 않으면서 좀더 일반화된 분류 규칙에 따라 분류 되었습니다."
   ]
  },
  {
   "cell_type": "markdown",
   "metadata": {
    "colab_type": "text",
    "id": "BPVZgtBob5JP"
   },
   "source": [
    "### __15번 문제 정답__ : 4"
   ]
  },
  {
   "cell_type": "markdown",
   "metadata": {
    "colab_type": "text",
    "id": "OC3lmjFnb5Et"
   },
   "source": [
    "\n",
    "\n",
    "---\n",
    "\n"
   ]
  },
  {
   "cell_type": "markdown",
   "metadata": {
    "colab_type": "text",
    "id": "ZXh-EyAicsJD"
   },
   "source": [
    "## 16. 다음 밑줄에 들어갈 알맞은 결정 트리 파라미터를 쓰시오. (주관식)\n",
    "```\n",
    "`__________` 파라미터는 노드를 분할하기 위한 최소한의 샘플 데이터 수로 과적합을 제어하는 데 사용됩니다. \n",
    "디폴트는 2이고 작게 설정할수록 분할되는 노드가 많아져서 과적합 가능성이 증가합니다.\n",
    "```"
   ]
  },
  {
   "cell_type": "markdown",
   "metadata": {
    "colab_type": "text",
    "id": "R2O6z8e0eXFU"
   },
   "source": [
    "### __16번 문제 정답(주관식)__ : min_samples_leaf"
   ]
  },
  {
   "cell_type": "markdown",
   "metadata": {
    "colab_type": "text",
    "id": "VZX7yplseX7g"
   },
   "source": [
    "\n",
    "\n",
    "---\n",
    "\n"
   ]
  },
  {
   "cell_type": "markdown",
   "metadata": {
    "colab_type": "text",
    "id": "9Un5y7vrlQ2f"
   },
   "source": [
    "## 17. box_container라는 클래스를 가진 요소를 가운데 정렬하기 위한 코드를 flex를 활용하여 CSS 속성 부분만 작성하시오. (주관식)\n"
   ]
  },
  {
   "cell_type": "markdown",
   "metadata": {
    "colab_type": "text",
    "id": "z9Kfbb1rl4X7"
   },
   "source": [
    "### __17번 문제 정답(주관식)__ : \n",
    "```\n",
    "#여기에 코드를 작성해주세요\n",
    "\n",
    ".box_container {\n",
    "        width: 100px;\n",
    "        height: 100px;\n",
    "        display: flex;\n",
    "        flex-direction: column;\n",
    "        justify-content: center;\n",
    "        align-items : center;\n",
    "      }\n",
    "\n",
    "\n",
    "```"
   ]
  },
  {
   "cell_type": "markdown",
   "metadata": {
    "colab_type": "text",
    "id": "XLBx0oaTT6QZ"
   },
   "source": [
    "\n",
    "\n",
    "---\n",
    "\n"
   ]
  },
  {
   "cell_type": "markdown",
   "metadata": {
    "colab_type": "text",
    "id": "3TVmNMLgmSla"
   },
   "source": [
    "## 18. flex-direction : column; 인 상황에서 가로축을 정렬하기 위한 방법으로 옳은 것을 고르시오. (객관식)\n",
    "\n",
    "1. justify-content : center;\n",
    "2. align-items : center;\n",
    "3. flex-wrap : wrap;\n",
    "4. justify-items: center;"
   ]
  },
  {
   "cell_type": "markdown",
   "metadata": {
    "colab_type": "text",
    "id": "PI8QSHylmwmj"
   },
   "source": [
    "### __18번 문제 정답__ : 2"
   ]
  },
  {
   "cell_type": "markdown",
   "metadata": {
    "colab_type": "text",
    "id": "MnMWdIu-mxnG"
   },
   "source": [
    "\n",
    "\n",
    "---\n",
    "\n"
   ]
  },
  {
   "cell_type": "markdown",
   "metadata": {
    "colab_type": "text",
    "id": "FTgjf8Wbmzxe"
   },
   "source": [
    "## 19. BeautifulSoup 에서 요소를 배열로 만들어서 리턴해주는 함수를 적으시오. (주관식)\n"
   ]
  },
  {
   "cell_type": "markdown",
   "metadata": {
    "colab_type": "text",
    "id": "66KO5zs8pEXc"
   },
   "source": [
    "### __19번 문제 정답(주관식)__ : select\n"
   ]
  },
  {
   "cell_type": "markdown",
   "metadata": {
    "colab_type": "text",
    "id": "Vk1hgfYSpH_T"
   },
   "source": [
    "\n",
    "\n",
    "---\n",
    "\n"
   ]
  },
  {
   "cell_type": "markdown",
   "metadata": {
    "colab_type": "text",
    "id": "CEmrjT4KpQJN"
   },
   "source": [
    "## 20. 해당 페이지에 요청을 보낼 때, Request Headers에 담아서 보내는 것으로, 이전 페이지의 정보를 담는 옵션으로 옳은 것을 고르시오. (객관식)\n",
    "\n",
    "1. cache-control\n",
    "2. Referer\n",
    "3. accept \n",
    "4. user-agent"
   ]
  },
  {
   "cell_type": "markdown",
   "metadata": {
    "colab_type": "text",
    "id": "q2pAMW0ppaon"
   },
   "source": [
    "### __20번 문제 정답__ : 2"
   ]
  },
  {
   "cell_type": "markdown",
   "metadata": {
    "colab_type": "text",
    "id": "vYf8Wa9tpcPk"
   },
   "source": [
    "\n",
    "\n",
    "---\n",
    "\n"
   ]
  },
  {
   "cell_type": "markdown",
   "metadata": {
    "colab_type": "text",
    "id": "ymWWGPbPhD88"
   },
   "source": [
    "## 21. 다음 코드는 파이썬 내장 함수를 통해 N진법 수 A를 10진수로 변환하는 코드이다. 빈 칸에 들어갈 알맞은 코드를 고르시오.(객관식)\n",
    "\n",
    "![대체 이미지](https://www.notion.so/image/https%3A%2F%2Fs3-us-west-2.amazonaws.com%2Fsecure.notion-static.com%2F3d398e05-224a-44f1-be01-6db094743164%2F5_21.png?table=block&id=49eff3ac-c9d5-4297-b2b7-2db00498a6fa&width=1920&cache=v2)\n",
    "\n",
    "1. divmod\n",
    "2. int\n",
    "3. decimal\n",
    "4. n_conv"
   ]
  },
  {
   "cell_type": "markdown",
   "metadata": {
    "colab_type": "text",
    "id": "3P2ONJq0ie5S"
   },
   "source": [
    "### __21번 문제 정답__ : 3"
   ]
  },
  {
   "cell_type": "markdown",
   "metadata": {
    "colab_type": "text",
    "id": "ob0Na6ocigZ7"
   },
   "source": [
    "\n",
    "\n",
    "---\n",
    "\n"
   ]
  },
  {
   "cell_type": "markdown",
   "metadata": {
    "colab_type": "text",
    "id": "RLsszGZIilP_"
   },
   "source": [
    "## 22. 다음 설명은 덱(deque)에 대한 설명이다. 이 자료구조는 양쪽 끝에서 삽입과 삭제가 가능하며 큐와 스택을 합친 형태로 간주할 수 있다. 왼쪽(front)에서 삽입을 발생시키기 위해서는 호출해야하는 함수와 시간복잡도가 알맞게 짝지어진 것을 고르시오.(객관식)\n",
    "\n",
    "1. append, O(1)\n",
    "2. appendleft, O(1)\n",
    "3. append, O(N)\n",
    "4. appendleft, O(N)\n"
   ]
  },
  {
   "cell_type": "markdown",
   "metadata": {
    "colab_type": "text",
    "id": "SXm_6rPEi3ca"
   },
   "source": [
    "### __22번 문제 정답__ : 2"
   ]
  },
  {
   "cell_type": "markdown",
   "metadata": {
    "colab_type": "text",
    "id": "6aMVq9Qsi5PG"
   },
   "source": [
    "\n",
    "\n",
    "---\n",
    "\n"
   ]
  },
  {
   "cell_type": "markdown",
   "metadata": {
    "colab_type": "text",
    "id": "SJTtbMRRjBfj"
   },
   "source": [
    "## 23. 아래의 설명에 해당하는 알고리즘을 쓰시오. 지역적으로 최적이면서 전역적으로 최적인 문제를 풀 때 보편적으로 사용하며 이전 단계의 선택이 이후의 선택에 영향을 주지 않고, 문제에 대한 최적해가 sub-problem에 대해서도 최적해라는 조건을 가지는 경우에 해당 알고리즘을 사용하여 적절히 문제를 해결할 수 있다. 이 알고리즘은 무엇인가? (강의에서 배운 용어 안에서 답하시오) (주관식)\n",
    "\n"
   ]
  },
  {
   "cell_type": "markdown",
   "metadata": {
    "colab_type": "text",
    "id": "RJnTgxs6j46J"
   },
   "source": [
    "### __23번 문제 정답(주관식)__ : 동적계획법"
   ]
  },
  {
   "cell_type": "markdown",
   "metadata": {
    "colab_type": "text",
    "id": "gAjH74LLj6fW"
   },
   "source": [
    "\n",
    "\n",
    "---\n",
    "\n"
   ]
  },
  {
   "cell_type": "markdown",
   "metadata": {
    "colab_type": "text",
    "id": "AYugQvUAkGnA"
   },
   "source": [
    "## 24. 아래 코드는 이진 탐색을 재귀로 구현한 코드의 일부이다. 코드의 빈 칸을 순서대로 알맞게 짝지어진 것을 고르시오. (객관식)\n",
    "\n",
    "```\n",
    "def b_search(total_list, find_target_value, start_idx, end_idx):\n",
    "    target_idx = [1번 빈칸]\n",
    "    \n",
    "    if start_idx > end_idx:\n",
    "        return -1\n",
    "    \n",
    "    if find_target_value < total_list[target_idx]:\n",
    "        return b_search(total_list, find_target_value, start_idx, [2번 빈칸])\n",
    "    elif find_target_value > total_list[target_idx]:\n",
    "        return b_search(total_list, find_target_value, [3번 빈칸], end_idx)\n",
    "    \n",
    "    return target_idx\n",
    "...\n",
    "\n",
    "```\n",
    "1. int((start_idx + end_idx) / 2), target_idx+1, target_idx-1\n",
    "2. int(start_idx / 2), target_idx+1, target_idx-1\n",
    "3. int((start_idx + end_idx) / 2), target_idx-1, target_idx+1\n",
    "4. int(end_idx / 2), target_idx-1, target_idx+1\n",
    "\n"
   ]
  },
  {
   "cell_type": "markdown",
   "metadata": {
    "colab_type": "text",
    "id": "R9UzcCoFkljK"
   },
   "source": [
    "### __24번 문제 정답__ : 3"
   ]
  },
  {
   "cell_type": "markdown",
   "metadata": {
    "colab_type": "text",
    "id": "2HWlTtTikmkX"
   },
   "source": [
    "\n",
    "\n",
    "---\n",
    "\n"
   ]
  }
 ],
 "metadata": {
  "colab": {
   "collapsed_sections": [],
   "name": "000_5주차_시험_0반__000.ipynb",
   "provenance": []
  },
  "kernelspec": {
   "display_name": "Python 3",
   "language": "python",
   "name": "python3"
  },
  "language_info": {
   "codemirror_mode": {
    "name": "ipython",
    "version": 3
   },
   "file_extension": ".py",
   "mimetype": "text/x-python",
   "name": "python",
   "nbconvert_exporter": "python",
   "pygments_lexer": "ipython3",
   "version": "3.7.6"
  }
 },
 "nbformat": 4,
 "nbformat_minor": 4
}
